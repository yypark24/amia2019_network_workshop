{
 "cells": [
  {
   "cell_type": "markdown",
   "metadata": {},
   "source": [
    "## AMIA 2019 Workshop "
   ]
  },
  {
   "cell_type": "markdown",
   "metadata": {},
   "source": [
    "# W02: Introduction to network analytics in healthcare research: Application to patient sharing provider networks"
   ]
  },
  {
   "cell_type": "markdown",
   "metadata": {},
   "source": [
    "# I. Basic Network Analysis\n",
    "\n",
    "Throughtout this workshop, we will use a package called **NetworkX** to create a network and obtain network properties. \n",
    "\n",
    "In the first part of the exercise, we will use NetworkX to create a simple network and manipulate the network by adding/removing nodes and edges. Before we start, you need the following python packages installed and imported.\n",
    "\n",
    "- numpy\n",
    "- pandas\n",
    "- networkx\n",
    "- matplotlib"
   ]
  },
  {
   "cell_type": "code",
   "execution_count": 1,
   "metadata": {},
   "outputs": [
    {
     "data": {
      "text/plain": [
       "'%.3f'"
      ]
     },
     "execution_count": 1,
     "metadata": {},
     "output_type": "execute_result"
    }
   ],
   "source": [
    "import numpy as np\n",
    "import pandas as pd\n",
    "from collections import Counter\n",
    "import networkx as nx\n",
    "import matplotlib.pyplot as plt\n",
    "%matplotlib inline\n",
    "from IPython.display import Image, display\n",
    "\n",
    "%precision 3"
   ]
  },
  {
   "cell_type": "markdown",
   "metadata": {},
   "source": [
    "## 1. NetworkX?\n",
    "\n",
    "NetworkX is a python package that provides classes for graph objects, generators to create standard graphs, input/output routines for reading in existing datasets, algorithms to analyze the resulting networks and some basic drawing tools. \n",
    "\n",
    "Detailed documentation can be found here: https://networkx.github.io/documentation/stable/"
   ]
  },
  {
   "cell_type": "markdown",
   "metadata": {},
   "source": [
    "## 2. Creating a Network\n",
    "\n",
    "Let's create an empty network using NetworkX and add nodes and edges to the network."
   ]
  },
  {
   "cell_type": "markdown",
   "metadata": {},
   "source": [
    "### a. Nodes\n",
    "\n",
    "Nodes represent different entities in a network that interact with each other. In a patient-sharing provider network, each node represent a single provider in the network. "
   ]
  },
  {
   "cell_type": "code",
   "execution_count": 2,
   "metadata": {},
   "outputs": [],
   "source": [
    "# Create a network\n",
    "G1 = nx.Graph() # Unweighted, undirected empty network "
   ]
  },
  {
   "cell_type": "code",
   "execution_count": 3,
   "metadata": {},
   "outputs": [],
   "source": [
    "# Add a single node manually\n",
    "G1.add_node('A')"
   ]
  },
  {
   "cell_type": "code",
   "execution_count": 4,
   "metadata": {},
   "outputs": [],
   "source": [
    "# Add nodes from a list\n",
    "G1.add_nodes_from(['B', 'C', 'D'])"
   ]
  },
  {
   "cell_type": "code",
   "execution_count": 5,
   "metadata": {},
   "outputs": [
    {
     "data": {
      "text/plain": [
       "NodeView(('A', 'B', 'C', 'D'))"
      ]
     },
     "execution_count": 5,
     "metadata": {},
     "output_type": "execute_result"
    }
   ],
   "source": [
    "# View nodes\n",
    "G1.nodes"
   ]
  },
  {
   "cell_type": "code",
   "execution_count": 6,
   "metadata": {},
   "outputs": [],
   "source": [
    "# Add nodes from another graph\n",
    "H = nx.Graph()\n",
    "H.add_nodes_from(['K', 'L', 'M'])"
   ]
  },
  {
   "cell_type": "code",
   "execution_count": 7,
   "metadata": {},
   "outputs": [],
   "source": [
    "G1.add_nodes_from(H) # now how many nodes are there?"
   ]
  },
  {
   "cell_type": "code",
   "execution_count": 8,
   "metadata": {},
   "outputs": [],
   "source": [
    "# Remove nodes\n",
    "G1.remove_node('B')"
   ]
  },
  {
   "cell_type": "code",
   "execution_count": 9,
   "metadata": {},
   "outputs": [
    {
     "data": {
      "text/plain": [
       "NodeView(('A', 'C', 'D', 'K', 'L', 'M'))"
      ]
     },
     "execution_count": 9,
     "metadata": {},
     "output_type": "execute_result"
    }
   ],
   "source": [
    "G1.nodes"
   ]
  },
  {
   "cell_type": "markdown",
   "metadata": {},
   "source": [
    "### b. Edges\n",
    "\n",
    "Edges represent a connection or a link between two nodes. In a patient-sharing provider network, sharing a patient will add an edge between two providers. "
   ]
  },
  {
   "cell_type": "code",
   "execution_count": 10,
   "metadata": {},
   "outputs": [],
   "source": [
    "# Add a single edge (source, target)\n",
    "# this also adds nodes if they don't already exist\n",
    "G1.add_edge('A', 'B')"
   ]
  },
  {
   "cell_type": "code",
   "execution_count": 11,
   "metadata": {},
   "outputs": [],
   "source": [
    "# Add multiple edges\n",
    "G1.add_edges_from([('A', 'D'), ('B', 'C'), ('B', 'D'), ('C', 'D')])"
   ]
  },
  {
   "cell_type": "code",
   "execution_count": 12,
   "metadata": {},
   "outputs": [],
   "source": [
    "# Add edges from another graph\n",
    "H.add_edges_from([('K', 'L'), ('L', 'M')])\n",
    "G1.add_edges_from(H.edges)\n",
    "G1.add_edges_from([('D', 'K'), ('M', 'K')])"
   ]
  },
  {
   "cell_type": "code",
   "execution_count": 13,
   "metadata": {},
   "outputs": [
    {
     "data": {
      "text/plain": [
       "EdgeView([('A', 'B'), ('A', 'D'), ('C', 'B'), ('C', 'D'), ('D', 'B'), ('D', 'K'), ('K', 'L'), ('K', 'M'), ('L', 'M')])"
      ]
     },
     "execution_count": 13,
     "metadata": {},
     "output_type": "execute_result"
    }
   ],
   "source": [
    "# View edges\n",
    "G1.edges"
   ]
  },
  {
   "cell_type": "code",
   "execution_count": 14,
   "metadata": {},
   "outputs": [],
   "source": [
    "# Remove edges\n",
    "G1.remove_edge('B', 'A')"
   ]
  },
  {
   "cell_type": "code",
   "execution_count": 15,
   "metadata": {},
   "outputs": [
    {
     "name": "stdout",
     "output_type": "stream",
     "text": [
      "List of neighbors of node D: ['A', 'B', 'C', 'K']\n"
     ]
    }
   ],
   "source": [
    "# Find neighbors\n",
    "dict_ngb = G1.neighbors('D')\n",
    "print('List of neighbors of node D:', [n for n in dict_ngb])"
   ]
  },
  {
   "cell_type": "markdown",
   "metadata": {},
   "source": [
    "Connectivity information is stored as adjacency dictionary, which you can access as below."
   ]
  },
  {
   "cell_type": "code",
   "execution_count": 16,
   "metadata": {},
   "outputs": [
    {
     "data": {
      "text/plain": [
       "AtlasView({'A': {}, 'B': {}, 'C': {}, 'K': {}})"
      ]
     },
     "execution_count": 16,
     "metadata": {},
     "output_type": "execute_result"
    }
   ],
   "source": [
    "G1.adj['D']"
   ]
  },
  {
   "cell_type": "markdown",
   "metadata": {},
   "source": [
    "### c. Attributes\n",
    "\n",
    "You can save node characteristics by assigning them as node attributes. "
   ]
  },
  {
   "cell_type": "code",
   "execution_count": 17,
   "metadata": {},
   "outputs": [],
   "source": [
    "# Assign node attributes\n",
    "G1.nodes['A']['Age'] = 30\n",
    "G1.add_node('F', Age=54)"
   ]
  },
  {
   "cell_type": "code",
   "execution_count": 18,
   "metadata": {},
   "outputs": [
    {
     "data": {
      "text/plain": [
       "54"
      ]
     },
     "execution_count": 18,
     "metadata": {},
     "output_type": "execute_result"
    }
   ],
   "source": [
    "# View node attributes\n",
    "G1.nodes['F']['Age']"
   ]
  },
  {
   "cell_type": "markdown",
   "metadata": {},
   "source": [
    "Network can be either weighted or unweighted, and be either directed or undirected. To create a weighted graph, add 'weight' as an edge attribute to a graph ('weight' is a reserved term in networkx). Edge weight can represent the strength of connection between nodes. \n",
    "\n",
    "Other edge attributes can be assigned in the same manner."
   ]
  },
  {
   "cell_type": "code",
   "execution_count": 19,
   "metadata": {},
   "outputs": [],
   "source": [
    "# Assign weight to edge\n",
    "G1['B']['D']['weight'] = 3"
   ]
  },
  {
   "cell_type": "code",
   "execution_count": 20,
   "metadata": {},
   "outputs": [
    {
     "data": {
      "text/plain": [
       "{'weight': 3}"
      ]
     },
     "execution_count": 20,
     "metadata": {},
     "output_type": "execute_result"
    }
   ],
   "source": [
    "# View weight\n",
    "G1['B']['D']"
   ]
  },
  {
   "cell_type": "code",
   "execution_count": 21,
   "metadata": {},
   "outputs": [
    {
     "data": {
      "text/plain": [
       "{'weight': 5}"
      ]
     },
     "execution_count": 21,
     "metadata": {},
     "output_type": "execute_result"
    }
   ],
   "source": [
    "# Change weight \n",
    "G1['B']['D']['weight'] = 5\n",
    "G1['B']['D']"
   ]
  },
  {
   "cell_type": "code",
   "execution_count": 22,
   "metadata": {},
   "outputs": [
    {
     "data": {
      "text/plain": [
       "AtlasView({'C': {}, 'D': {'weight': 5}})"
      ]
     },
     "execution_count": 22,
     "metadata": {},
     "output_type": "execute_result"
    }
   ],
   "source": [
    "G1['B']"
   ]
  },
  {
   "cell_type": "code",
   "execution_count": 23,
   "metadata": {},
   "outputs": [
    {
     "data": {
      "text/plain": [
       "{'weight': 5, 'time': '5days'}"
      ]
     },
     "execution_count": 23,
     "metadata": {},
     "output_type": "execute_result"
    }
   ],
   "source": [
    "# Add other edge attribute\n",
    "G1['B']['D']['time'] = '5days'\n",
    "G1['B']['D']"
   ]
  },
  {
   "cell_type": "markdown",
   "metadata": {},
   "source": [
    "## 3. Network Properties"
   ]
  },
  {
   "cell_type": "markdown",
   "metadata": {},
   "source": [
    "### a. Degree\n",
    "\n",
    "Node degree is the number edges connected (i.e. adjacent) to the node. In the following figure, the degree of node **i** is 4.\n",
    "\n",
    "<img title=\"\" src=\"degree.png\">"
   ]
  },
  {
   "cell_type": "code",
   "execution_count": 24,
   "metadata": {},
   "outputs": [
    {
     "data": {
      "text/plain": [
       "DegreeView({'A': 1, 'C': 2, 'D': 4, 'K': 3, 'L': 2, 'M': 2, 'B': 2, 'F': 0})"
      ]
     },
     "execution_count": 24,
     "metadata": {},
     "output_type": "execute_result"
    }
   ],
   "source": [
    "G1.degree()"
   ]
  },
  {
   "cell_type": "code",
   "execution_count": 25,
   "metadata": {},
   "outputs": [
    {
     "name": "stdout",
     "output_type": "stream",
     "text": [
      "[1, 2, 4, 3, 2, 2, 2, 0]\n"
     ]
    }
   ],
   "source": [
    "# Get degree list\n",
    "degrees = [deg for node, deg in nx.degree(G1)]\n",
    "print(degrees)"
   ]
  },
  {
   "cell_type": "code",
   "execution_count": 26,
   "metadata": {},
   "outputs": [
    {
     "name": "stdout",
     "output_type": "stream",
     "text": [
      "Minimum degree: 0\n",
      "Maximum degree: 4\n",
      "Average degree: 2.0\n"
     ]
    }
   ],
   "source": [
    "deg_min = np.min(degrees)\n",
    "deg_max = np.max(degrees)\n",
    "deg_avg = np.mean(degrees)\n",
    "\n",
    "print('Minimum degree:', deg_min)\n",
    "print('Maximum degree:', deg_max)\n",
    "print('Average degree:', deg_avg)"
   ]
  },
  {
   "cell_type": "markdown",
   "metadata": {},
   "source": [
    "We can plot the probability distribution of node degrees to characterize a network. "
   ]
  },
  {
   "cell_type": "code",
   "execution_count": 27,
   "metadata": {},
   "outputs": [
    {
     "data": {
      "image/png": "[encoded data removed]",
      "text/plain": [
       "<Figure size 432x288 with 1 Axes>"
      ]
     },
     "metadata": {
      "needs_background": "light"
     },
     "output_type": "display_data"
    }
   ],
   "source": [
    "# Plot degree distribution\n",
    "plt.hist(degrees)\n",
    "plt.show()"
   ]
  },
  {
   "cell_type": "code",
   "execution_count": 28,
   "metadata": {},
   "outputs": [],
   "source": [
    "# Get degree distribution\n",
    "def degree_distr(g):\n",
    "    degrees = dict(g.degree()) \n",
    "    fq = list(Counter(degrees.values()).items()) \n",
    "    fq.sort(key=lambda x:x[0])\n",
    "    fq = np.array(fq)\n",
    "    return fq"
   ]
  },
  {
   "cell_type": "code",
   "execution_count": 29,
   "metadata": {},
   "outputs": [
    {
     "data": {
      "text/plain": [
       "array([[0, 1],\n",
       "       [1, 1],\n",
       "       [2, 4],\n",
       "       [3, 1],\n",
       "       [4, 1]])"
      ]
     },
     "execution_count": 29,
     "metadata": {},
     "output_type": "execute_result"
    }
   ],
   "source": [
    "degree_distr(G1)"
   ]
  },
  {
   "cell_type": "markdown",
   "metadata": {},
   "source": [
    "### b. Centrality\n",
    "\n",
    "Centrality quantifies how 'central' or how 'important' the node is within a network. There are multiple centrality measures, including degree centrality, betweenness centrality, and closeness centrality. \n",
    "\n",
    "For example, betweenness centrality is defined by the number of times a node is on the shortest path between two other nodes. The figure below shows one instance when the node **i** is on the shortest path between the two connected nodes.\n",
    "\n",
    "<img title=\"\" src=\"bet_cent.png\">"
   ]
  },
  {
   "cell_type": "code",
   "execution_count": 30,
   "metadata": {},
   "outputs": [
    {
     "data": {
      "text/plain": [
       "{'A': 0.143,\n",
       " 'C': 0.286,\n",
       " 'D': 0.571,\n",
       " 'K': 0.429,\n",
       " 'L': 0.286,\n",
       " 'M': 0.286,\n",
       " 'B': 0.286,\n",
       " 'F': 0.000}"
      ]
     },
     "execution_count": 30,
     "metadata": {},
     "output_type": "execute_result"
    }
   ],
   "source": [
    "# Degree centrality (above)\n",
    "nx.degree_centrality(G1)"
   ]
  },
  {
   "cell_type": "code",
   "execution_count": 31,
   "metadata": {},
   "outputs": [
    {
     "data": {
      "text/plain": [
       "{'A': 0.000,\n",
       " 'C': 0.000,\n",
       " 'D': 0.524,\n",
       " 'K': 0.381,\n",
       " 'L': 0.000,\n",
       " 'M': 0.000,\n",
       " 'B': 0.000,\n",
       " 'F': 0.000}"
      ]
     },
     "execution_count": 31,
     "metadata": {},
     "output_type": "execute_result"
    }
   ],
   "source": [
    "# Betweenness centrality\n",
    "nx.betweenness_centrality(G1)"
   ]
  },
  {
   "cell_type": "code",
   "execution_count": 32,
   "metadata": {},
   "outputs": [
    {
     "data": {
      "text/plain": [
       "{'A': 0.396,\n",
       " 'C': 0.429,\n",
       " 'D': 0.643,\n",
       " 'K': 0.571,\n",
       " 'L': 0.396,\n",
       " 'M': 0.396,\n",
       " 'B': 0.429,\n",
       " 'F': 0.000}"
      ]
     },
     "execution_count": 32,
     "metadata": {},
     "output_type": "execute_result"
    }
   ],
   "source": [
    "# Closeness centrality\n",
    "nx.closeness_centrality(G1)"
   ]
  },
  {
   "cell_type": "code",
   "execution_count": null,
   "metadata": {},
   "outputs": [],
   "source": []
  },
  {
   "cell_type": "markdown",
   "metadata": {},
   "source": [
    "### c. Clustering coefficient\n",
    "\n",
    "Clustering coefficient of a node quantifies how likely the neighbors of the node are to 'cluster' together, or more formally, to form a fully connected clique. In the figure below, the neighbors of node **i** are not fully connected because there are missing edges (dotted red line). \n",
    "A different (but mathematically equivalent) definition of clustering coefficient is the fraction of possible triangles through a given node that exist. \n",
    "\n",
    "<img title=\"\" src=\"cluster.png\">"
   ]
  },
  {
   "cell_type": "code",
   "execution_count": 33,
   "metadata": {},
   "outputs": [
    {
     "data": {
      "text/plain": [
       "{'A': 0,\n",
       " 'C': 1.000,\n",
       " 'D': 0.167,\n",
       " 'K': 0.333,\n",
       " 'L': 1.000,\n",
       " 'M': 1.000,\n",
       " 'B': 1.000,\n",
       " 'F': 0}"
      ]
     },
     "execution_count": 33,
     "metadata": {},
     "output_type": "execute_result"
    }
   ],
   "source": [
    "# Get clustering coefficient of each node\n",
    "nx.clustering(G1)"
   ]
  },
  {
   "cell_type": "code",
   "execution_count": 34,
   "metadata": {},
   "outputs": [
    {
     "name": "stdout",
     "output_type": "stream",
     "text": [
      "0.5625\n"
     ]
    }
   ],
   "source": [
    "# Average clustering coefficient of the network\n",
    "cc = nx.clustering(G1)\n",
    "avg_clust = sum(cc.values()) / len(G1)\n",
    "print(avg_clust)"
   ]
  },
  {
   "cell_type": "code",
   "execution_count": 35,
   "metadata": {},
   "outputs": [
    {
     "data": {
      "text/plain": [
       "0.562"
      ]
     },
     "execution_count": 35,
     "metadata": {},
     "output_type": "execute_result"
    }
   ],
   "source": [
    "nx.average_clustering(G1)"
   ]
  },
  {
   "cell_type": "markdown",
   "metadata": {},
   "source": [
    "### d. Density calculation (as defined in the lecture)\n",
    "\n",
    "Here we will calculate the care density introduced during the lecture. Care density was defined as total number of shared patients / total number of pairs of doctors.\n",
    "\n",
    "Let's assume that the network we created represent one patient's providers over a period of time. The total number of patient-sharing can be obtained by the sum of the edge weights. The total number of pairs of doctors would be n*(n-1)/2 where n is the number of docors this patient saw in the network. "
   ]
  },
  {
   "cell_type": "code",
   "execution_count": 36,
   "metadata": {},
   "outputs": [],
   "source": [
    "# In the network we created, there are 8 nodes. \n",
    "n_nodes = 8\n",
    "total_n_pairs = (n_nodes*(n_nodes-1)/2)"
   ]
  },
  {
   "cell_type": "code",
   "execution_count": 37,
   "metadata": {},
   "outputs": [],
   "source": [
    "# First, assign weight of 1 to the edges without assigned weight (we assigned a weight to a single edge above).\n",
    "\n",
    "for u, v in G1.edges:\n",
    "    if G1[u][v] == {}:\n",
    "        G1[u][v]['weight'] = 1"
   ]
  },
  {
   "cell_type": "code",
   "execution_count": 38,
   "metadata": {},
   "outputs": [],
   "source": [
    "# Get the list of edge weights\n",
    "edge_weight_list = [G1[u][v]['weight'] for u,v in G1.edges]"
   ]
  },
  {
   "cell_type": "code",
   "execution_count": 39,
   "metadata": {},
   "outputs": [
    {
     "data": {
      "text/plain": [
       "[1, 1, 1, 5, 1, 1, 1, 1]"
      ]
     },
     "execution_count": 39,
     "metadata": {},
     "output_type": "execute_result"
    }
   ],
   "source": [
    "edge_weight_list"
   ]
  },
  {
   "cell_type": "code",
   "execution_count": 40,
   "metadata": {},
   "outputs": [],
   "source": [
    "# The sum of edge weights\n",
    "edge_weight_sum = sum(edge_weight_list)"
   ]
  },
  {
   "cell_type": "code",
   "execution_count": 41,
   "metadata": {},
   "outputs": [],
   "source": [
    "# Let's calculate the density\n",
    "density = edge_weight_sum / total_n_pairs"
   ]
  },
  {
   "cell_type": "code",
   "execution_count": 42,
   "metadata": {},
   "outputs": [
    {
     "name": "stdout",
     "output_type": "stream",
     "text": [
      "Density of the network: 0.42857142857142855\n"
     ]
    }
   ],
   "source": [
    "print('Density of the network:', density)"
   ]
  },
  {
   "cell_type": "code",
   "execution_count": null,
   "metadata": {},
   "outputs": [],
   "source": []
  },
  {
   "cell_type": "markdown",
   "metadata": {},
   "source": [
    "## 4. Visualization using NetworkX\n",
    "\n",
    "While simple visualization is possible with NetworkX, more sophisticated visualization is possible using tools like Gephi (see below)."
   ]
  },
  {
   "cell_type": "code",
   "execution_count": 43,
   "metadata": {},
   "outputs": [],
   "source": [
    "# Plot a graph using nx.draw function"
   ]
  },
  {
   "cell_type": "code",
   "execution_count": 44,
   "metadata": {},
   "outputs": [
    {
     "name": "stderr",
     "output_type": "stream",
     "text": [
      "/Users/yoonyoungpark/anaconda3/lib/python3.7/site-packages/networkx/drawing/nx_pylab.py:611: MatplotlibDeprecationWarning: isinstance(..., numbers.Number)\n",
      "  if cb.is_numlike(alpha):\n"
     ]
    },
    {
     "data": {
      "image/png": "[encoded data removed]",
      "text/plain": [
       "<Figure size 432x288 with 1 Axes>"
      ]
     },
     "metadata": {},
     "output_type": "display_data"
    }
   ],
   "source": [
    "nx.draw_circular(G1, node_size=500, node_color='red', with_labels=True, font_weight='bold')"
   ]
  },
  {
   "cell_type": "markdown",
   "metadata": {},
   "source": [
    "An example of graph drawn with Gephi (https://gephi.org/images/screenshots/layout1.png)\n",
    "\n",
    "<img title=\"\" src=\"gephi_image.png\">"
   ]
  },
  {
   "cell_type": "markdown",
   "metadata": {},
   "source": [
    "## An example of using network properties in clinical prediction models\n",
    "\n",
    "Once you obtain network properties (e.g. degree, clustering coefficient, centrality, etc.) there are multiple ways that you can use them in your research. One way is to use them as predictors in clinical prediction model. \n",
    "\n",
    "As an example, see [Park et al (2019)](https://journals.plos.org/plosone/article?id=10.1371/journal.pone.0211218)\n",
    "\n",
    "In this paper, we first constructed a hierarchical provider network for patients admitted to a hospital with a heart disease. We then used the properties of provider network (e.g. degree and betweenness centrality, clustering coefficient, modularity) as patient-level predictors in regression models predicting in-hospital mortality and length of hospital stay. We found that after adjusting for patients' clinical characteristics, network features were significantly associated with both of the clinical outcomes of interest. \n",
    "\n",
    "\n",
    "<img title=\"\" src=\"journal.pone.0211218.g001.png\">"
   ]
  },
  {
   "cell_type": "markdown",
   "metadata": {},
   "source": [
    "## An example of network visualization tool \n",
    "\n",
    "This is a simple visualization tool developed by colleaguest at IBM. The source codes will be made available upon request (please send a request to yoonyoung.park@ibm.com)\n",
    "\n",
    "The tool ingests claims or other forms of electronic health data that has provider and patient identifiers, so that bipartite graph can be generated like the above and then displayed as 2D or 3D graphs. It can then be projected to show provider-provider network with patient-sharing edges.\n",
    "\n",
    "<img title=\"\" src=\"naaas_sample.png\">"
   ]
  },
  {
   "cell_type": "markdown",
   "metadata": {},
   "source": [
    "\n",
    "\n",
    "\n",
    "\n",
    "\n",
    "\n",
    "# II. Network Analysis with Healthcare Data\n",
    "\n",
    "In the second part of this session, we will use a sample of synthetic public data (Medicare claims data) to create a patient-sharing network, obtain network properties, and visualize the network. "
   ]
  },
  {
   "cell_type": "markdown",
   "metadata": {},
   "source": [
    "## Hands-on demonstration"
   ]
  },
  {
   "cell_type": "markdown",
   "metadata": {},
   "source": [
    "#### [Synthetic medicare claims dataset link](https://www.cms.gov/Research-Statistics-Data-and-Systems/Downloadable-Public-Use-Files/SynPUFs/DE_Syn_PUF.html)\n",
    "\n",
    "The sample file we'll be using has 2000 rows. Load the data by one of the two methods below.\n",
    "\n",
    "- Run the cell below \n",
    "- [Direclty download the sample claims file](https://github.com/yypark24/amia2020_network_workshop/blob/master/claims_sample.csv) - right-click 'Raw' button on the top right corner and click 'Save Link As...', then run the commented out cell below"
   ]
  },
  {
   "cell_type": "code",
   "execution_count": 45,
   "metadata": {},
   "outputs": [],
   "source": [
    "url = 'https://github.com/yypark24/amia2020_network_workshop/raw/master/claims_sample.csv'\n",
    "df_claims = pd.read_csv(url, index_col=0)"
   ]
  },
  {
   "cell_type": "code",
   "execution_count": 46,
   "metadata": {},
   "outputs": [],
   "source": [
    "# Run the cell below if you downloaded the file locally"
   ]
  },
  {
   "cell_type": "code",
   "execution_count": 47,
   "metadata": {},
   "outputs": [],
   "source": [
    "# filepath = \"\" # path to the folder where you downloaded the file\n",
    "# df_claims = pd.read_csv(filepath + 'claims_sample.csv') "
   ]
  },
  {
   "cell_type": "code",
   "execution_count": 48,
   "metadata": {},
   "outputs": [
    {
     "name": "stdout",
     "output_type": "stream",
     "text": [
      "N patients: 201\n",
      "N providers: 1415\n"
     ]
    }
   ],
   "source": [
    "n_pt=df_claims['DESYNPUF_ID'].nunique()\n",
    "print('N patients: '+str(n_pt))\n",
    "n_npi=df_claims['AT_PHYSN_NPI'].nunique()\n",
    "print('N providers: '+str(n_npi))"
   ]
  },
  {
   "cell_type": "code",
   "execution_count": 49,
   "metadata": {},
   "outputs": [
    {
     "data": {
      "text/html": [
       "<div>\n",
       "<style scoped>\n",
       "    .dataframe tbody tr th:only-of-type {\n",
       "        vertical-align: middle;\n",
       "    }\n",
       "\n",
       "    .dataframe tbody tr th {\n",
       "        vertical-align: top;\n",
       "    }\n",
       "\n",
       "    .dataframe thead th {\n",
       "        text-align: right;\n",
       "    }\n",
       "</style>\n",
       "<table border=\"1\" class=\"dataframe\">\n",
       "  <thead>\n",
       "    <tr style=\"text-align: right;\">\n",
       "      <th></th>\n",
       "      <th>DESYNPUF_ID</th>\n",
       "      <th>AT_PHYSN_NPI</th>\n",
       "      <th>count</th>\n",
       "      <th>tot_cost</th>\n",
       "    </tr>\n",
       "  </thead>\n",
       "  <tbody>\n",
       "    <tr>\n",
       "      <th>0</th>\n",
       "      <td>00013D2EFD8E45D1</td>\n",
       "      <td>4.824842e+09</td>\n",
       "      <td>1</td>\n",
       "      <td>50.0</td>\n",
       "    </tr>\n",
       "    <tr>\n",
       "      <th>1</th>\n",
       "      <td>00016F745862898F</td>\n",
       "      <td>2.963420e+09</td>\n",
       "      <td>1</td>\n",
       "      <td>30.0</td>\n",
       "    </tr>\n",
       "    <tr>\n",
       "      <th>2</th>\n",
       "      <td>00016F745862898F</td>\n",
       "      <td>5.737808e+09</td>\n",
       "      <td>1</td>\n",
       "      <td>30.0</td>\n",
       "    </tr>\n",
       "    <tr>\n",
       "      <th>3</th>\n",
       "      <td>0001FDD721E223DC</td>\n",
       "      <td>1.233848e+09</td>\n",
       "      <td>1</td>\n",
       "      <td>30.0</td>\n",
       "    </tr>\n",
       "    <tr>\n",
       "      <th>4</th>\n",
       "      <td>00024B3D2352D2D0</td>\n",
       "      <td>1.449019e+09</td>\n",
       "      <td>1</td>\n",
       "      <td>10.0</td>\n",
       "    </tr>\n",
       "  </tbody>\n",
       "</table>\n",
       "</div>"
      ],
      "text/plain": [
       "        DESYNPUF_ID  AT_PHYSN_NPI  count  tot_cost\n",
       "0  00013D2EFD8E45D1  4.824842e+09      1      50.0\n",
       "1  00016F745862898F  2.963420e+09      1      30.0\n",
       "2  00016F745862898F  5.737808e+09      1      30.0\n",
       "3  0001FDD721E223DC  1.233848e+09      1      30.0\n",
       "4  00024B3D2352D2D0  1.449019e+09      1      10.0"
      ]
     },
     "metadata": {},
     "output_type": "display_data"
    }
   ],
   "source": [
    "# Reduce claims file to the columns we are interested in - that is\n",
    "# patient id, attending provider npi, claim id, claim payment amount\n",
    "\n",
    "columns=['DESYNPUF_ID', 'AT_PHYSN_NPI', 'CLM_ID', 'CLM_PMT_AMT'] # pt_id, npi, claim_id, total_charge\n",
    "def get_pt_npi(df,columns):\n",
    "    # Turn df_claims to a dataframe for networkx - and keep only useful columns\n",
    "    # For each patient and provider pair that appears on df, collect the number of claims issued and total cost\n",
    "    # rename columns accordingly\n",
    "    # Arg:\n",
    "        # df (pandas dataframe): df of claims \n",
    "        # columns (list): list of columns to use - first two columns are the patient id and npi\n",
    "    # Return:\n",
    "        # df_pt_npi (pandas dataframe)\n",
    "\n",
    "    df_pt_npi=df[columns].groupby([columns[0], columns[1]]).agg(['count','sum'])\n",
    "    df_pt_npi.drop(columns=[(columns[2],'sum'),(columns[3],'count')],inplace=True)\n",
    "    df_pt_npi.columns = df_pt_npi.columns.map('_'.join)\n",
    "    df_pt_npi.rename(columns={list(df_pt_npi)[0]: 'count',list(df_pt_npi)[1]: 'tot_cost'},inplace=True)\n",
    "    \n",
    "    df_pt_npi.reset_index(inplace=True)\n",
    "    return df_pt_npi\n",
    "\n",
    "df_pt_npi=get_pt_npi(df_claims,columns)\n",
    "\n",
    "###\n",
    "try:\n",
    "    display(df_pt_npi.head())\n",
    "except:\n",
    "    print(df_pt_npi.head())"
   ]
  },
  {
   "cell_type": "markdown",
   "metadata": {},
   "source": [
    "### Bipartite graph (2-mode graph)\n",
    "- A bipartite graph is a graph whose the nodes can be split on two sets, with no intra-set connections (but only inter-connections).\n",
    "- In our case, patients (providers) are not connected with each other directly, but only through providers (patients).\n",
    "- On the practical side of things: We can choose whether (and if) we will use the 'count' or 'tot_cost' as the weight of the edge between a patient and provider, or just as an attribute of an edge\n",
    "- Here we choose the 'count' of visits of a patient to a provider as the weight and the 'tot_cost' as an edge attribute - We will have to rename 'count' column to 'weight'"
   ]
  },
  {
   "cell_type": "code",
   "execution_count": 50,
   "metadata": {},
   "outputs": [],
   "source": [
    "df_pt_npi.rename(columns={'count':'weight'},inplace=True) # renaming column\n",
    "cols_pt_npi=list(df_pt_npi) # columns of df_pt_npi\n",
    "B = nx.from_pandas_edgelist(df_pt_npi, cols_pt_npi[0], cols_pt_npi[1], cols_pt_npi[2:4])"
   ]
  },
  {
   "cell_type": "code",
   "execution_count": 51,
   "metadata": {},
   "outputs": [
    {
     "name": "stdout",
     "output_type": "stream",
     "text": [
      "N of nodes: 1615\n",
      "N of edges: 1522\n"
     ]
    }
   ],
   "source": [
    "print('N of nodes: '+str(B.number_of_nodes())) # total number of nodes\n",
    "print('N of edges: '+str(B.number_of_edges())) # total number of edges"
   ]
  },
  {
   "cell_type": "markdown",
   "metadata": {},
   "source": [
    "#### Questions\n",
    "- What is the number of patient (or provider) nodes in this graph?\n",
    "- What is the degree of the patient node \"'00013D2EFD8E45D1'\" and \"4824842417.0\"?\n",
    "- What is the weight of edge of the pair of nodes \"'00013D2EFD8E45D1'\" and \"4824842417.0\"?\n",
    "- What is the degree distribution of the patients, and providers? (can also be computed using the df_pt_npi object)\n",
    "- What is the clustering coeficient of each node in the graph?"
   ]
  },
  {
   "cell_type": "markdown",
   "metadata": {},
   "source": [
    "### Projected Graph (1-mode graph)\n",
    "- Now we can generate the patient-sharing provider network by projecting the bipartite graph on the provider side (as seen in the slides)\n",
    "- We will have to let networkx know which set of nodes we want to do the projection to"
   ]
  },
  {
   "cell_type": "code",
   "execution_count": 52,
   "metadata": {},
   "outputs": [],
   "source": [
    "from networkx.algorithms import bipartite\n",
    "proj_nodes = set(df_pt_npi[cols_pt_npi[1]]) # nodes we will project on (providers)\n",
    "G2 = bipartite.weighted_projected_graph(B, proj_nodes) # for weighted projected graphs\n",
    "# G2 = bipartite.projected_graph(B, proj_nodes) # for unweighted projected graph"
   ]
  },
  {
   "cell_type": "markdown",
   "metadata": {},
   "source": [
    "#### Questions\n",
    "- What is the maximum (and minimum) degree of nodes in the graph G?\n",
    "- Which are the top 50 provides in terms of betweeness centrality?\n",
    "- Why are there nodes (providers) with degree 0?\n",
    "- Optional: Can you remove the nodes with degree 0 from the graph G"
   ]
  },
  {
   "cell_type": "markdown",
   "metadata": {},
   "source": [
    "### Graph Components\n",
    "- A graph is not always one component - it may be composed of disconnected compoments (subgraphs) \n",
    "where it is not possible to reach any node from any node in the graph.\n",
    "- The giant component is the largest (in terms of nodes) compoment of the graph"
   ]
  },
  {
   "cell_type": "code",
   "execution_count": 53,
   "metadata": {},
   "outputs": [],
   "source": [
    "# all of the components of graph G\n",
    "components=nx.connected_components(G2) # this function is an iterator (python object)\n",
    "giant = max(components, key=len) # returns a graph object - finding the max takes O(N) time\n",
    "\n",
    "# sorting all disconnected components in a list (with graphs as objects) - sorting a list takes O(NlogN) time\n",
    "components_sorted = sorted(nx.connected_components(G2), key=len, reverse=True)"
   ]
  },
  {
   "cell_type": "markdown",
   "metadata": {},
   "source": [
    "#### Questions\n",
    "- What is the number of disconnected components of G?\n",
    "- What is largest connected component of the graph (namely, giant component) - see below\n",
    "- Optional: compare the \"macro\" properties of two disconnected components, such as \n",
    "    the number of nodes (and edges), average degree, average clustering coefficient, etc\n",
    "- See below for how to visualize them; can you visually capture their macroscopic properties?"
   ]
  },
  {
   "cell_type": "markdown",
   "metadata": {},
   "source": [
    "### Community Detection\n",
    "- Communities are clusters of nodes whose nodes are more closely connected with each other (that with nodes not outside of the cluster)\n",
    "- There are multiple metrics for measuring the quality of the partition of the graph into communities\n",
    "- In addition, there are mutltiple algorithms for various metrics\n",
    "- Here we will use Clauset-Newman-Moore algorithm which is based on maximizing the modularity metric. This algorithm can be used for both unweighted and weighted graphs, however networkx only supports the unweighted version of it\n",
    "- Networkx functions for communities can be found [here](https://networkx.github.io/documentation/stable/reference/algorithms/community.html)\n",
    "- There is another Python (and R) module for graphs that is better for community detection, namely [igraph](https://igraph.org/redirect.html)\n",
    "- Be aware that community detection algorithms can be computationaly heavy (NP-hard process) "
   ]
  },
  {
   "cell_type": "code",
   "execution_count": 54,
   "metadata": {},
   "outputs": [],
   "source": [
    "from networkx.algorithms import community"
   ]
  },
  {
   "cell_type": "code",
   "execution_count": 55,
   "metadata": {},
   "outputs": [],
   "source": [
    "communities_generator = community.girvan_newman(G2) # using the Clauset-Newman-Moore algorithm - based on Modularity Optimization\n",
    "# The alg. generates multiple partitions, with the partition with the highest modularity being:\n",
    "top_level_communities = next(communities_generator) \n",
    "# This is a tuple of the sets of nodes per community\n",
    "# We can evaluate the quality of this partition below"
   ]
  },
  {
   "cell_type": "markdown",
   "metadata": {},
   "source": [
    "### Optional: Measuring the quality of the partitions of a graph\n",
    "#### Modularity\n",
    "*Modularity* is one measure of the structure of networks or graphs. It was designed to measure the strength of division of a network into modules (also called groups, clusters or communities). Networks with high modularity have dense connections between the nodes within modules but sparse connections between nodes in different modules.\n",
    "\n",
    "$${\\displaystyle Q={\\frac {1}{(2m)}}\\sum _{vw}\\left[A_{vw}-{\\frac {k_{v}k_{w}}{(2m)}}\\right]\\delta (c_{v},c_{w})}$$\n",
    "\n",
    "\n",
    "where weighted graphs (unweighted graphs):\n",
    "- $A_{vw}$ is the weight of edge $vw$ (1 or 0 for unweighted graphs)\n",
    "- $m$ is the sum of the weights of edges in the graph (total number of edges of unweighted graphs)\n",
    "- $k_v$ is the sum of the weights of node $v$ (the degree of node $v$)\n",
    "- $\\delta$ is the delta function\n",
    "- $c_v$ the community of node $v$\n",
    "\n",
    "#### Coverage\n",
    "The *coverage* of a partition is the ratio of the number of intra-community edges to the total number of edges in the graph.\n",
    "#### Performance\n",
    "The *performance* of a partition is the ratio of the number of intra-community edges plus inter-community non-edges with the total number of potential edges.\n"
   ]
  },
  {
   "cell_type": "code",
   "execution_count": 56,
   "metadata": {
    "scrolled": true
   },
   "outputs": [],
   "source": [
    "# partition quality metrics with networkx:\n",
    "mod=community.modularity(G2,top_level_communities) # modularity\n",
    "cov=community.coverage(G2, top_level_communities) # coverage\n",
    "perf=community.performance(G2, top_level_communities) # performance"
   ]
  },
  {
   "cell_type": "markdown",
   "metadata": {},
   "source": [
    "#### Questions \n",
    "- How many communities did we detect?\n",
    "- How many nodes does the largest community has? \n",
    "- What is the distribution of nodes per community? Optional: Sort it and plot it. \n",
    "- What are the theoretical bounds (min and max potential value) of the modularity metric?\n",
    "- What is the modularity of our partition?\n",
    "- Optional: Create a dictionary of the node to the community it belongs (Solution right below)\n",
    "- Optional: Assign that community info per node as an attribute to graph object G (Solution right below)\n",
    "- Optional: Check if nodes now have their assigned community as an node-attribute"
   ]
  },
  {
   "cell_type": "code",
   "execution_count": 57,
   "metadata": {},
   "outputs": [
    {
     "data": {
      "text/plain": [
       "[(4123885573.000, {'community': 0}),\n",
       " (7235403781.000, {'community': 1}),\n",
       " (7818174481.000, {'community': 2}),\n",
       " (95092757.000, {'community': 3}),\n",
       " (9390964763.000, {'community': 4}),\n",
       " (3187875884.000, {'community': 5}),\n",
       " (4849860656.000, {'community': 6}),\n",
       " (4341915698.000, {'community': 7}),\n",
       " (5107449910.000, {'community': 8}),\n",
       " (4020437050.000, {'community': 9})]"
      ]
     },
     "execution_count": 57,
     "metadata": {},
     "output_type": "execute_result"
    }
   ],
   "source": [
    "# Create a dictionary of the node to the community it belongs\n",
    "def node_community(set_of_communities):\n",
    "    # Turn the set of communities to a dictionary of the community of each node\n",
    "    # Arg:\n",
    "        # \n",
    "    # Return: \n",
    "        # dct_com (dictionary): node id as key, community as value\n",
    "    dct_com={}\n",
    "    community=0\n",
    "    for com_i in set_of_communities:\n",
    "        for node in com_i:\n",
    "            dct_com[node]=community\n",
    "        community=community+1\n",
    "    return dct_com\n",
    "\n",
    "dct_com=node_community(top_level_communities)\n",
    "\n",
    "# Assigning that community info per node as an attribute to graph object G\n",
    "nx.set_node_attributes(G2, dct_com, name='community')\n",
    "\n",
    "# Checking if nodes now have their assigned community as an node-attribute\n",
    "list(G2.nodes(data=True))[0:10]"
   ]
  },
  {
   "cell_type": "markdown",
   "metadata": {},
   "source": [
    "#### Writing the graph\n",
    "- A couple of graph write options are listed below (more options [here](https://networkx.github.io/documentation/stable/reference/readwrite/index.html)):"
   ]
  },
  {
   "cell_type": "code",
   "execution_count": 58,
   "metadata": {},
   "outputs": [],
   "source": [
    "nx.write_gpickle(G2,'G2_graph.gpickle') # write for gephi visualizations\n",
    "nx.write_gexf(G2,'G2_graph.gexf') # write for gephi visualizations"
   ]
  },
  {
   "cell_type": "markdown",
   "metadata": {},
   "source": [
    "#### Graph Visualizations\n",
    "- Graphs are typically multidimensional, making it a challenge to visualize in 2-D\n",
    "- Sophisticated algorithms have to be used for this process with mixed success\n",
    "- Moreover, the more the nodes (and/or edges) the messier the 2D represention is going to be\n",
    "- Networkx offers very basic visualizations, \n",
    "- See the functions [here](https://networkx.github.io/documentation/stable/reference/drawing.html)\n",
    "- See networkx examples [here](https://networkx.github.io/documentation/stable/auto_examples/index.html)\n",
    "- A couple of example are seen below\n",
    "- Optional: More sophisticated visualizations using the tool Gephi (free), you will have to write the graph as a '.gexf' object to load it with Gephi"
   ]
  },
  {
   "cell_type": "code",
   "execution_count": 59,
   "metadata": {
    "scrolled": true
   },
   "outputs": [
    {
     "data": {
      "image/png": "[encoded data removed]",
      "text/plain": [
       "<Figure size 432x288 with 1 Axes>"
      ]
     },
     "metadata": {},
     "output_type": "display_data"
    }
   ],
   "source": [
    "# Example 1: Just placing the nodes in a cycle may not look good if the nodes are too many:\n",
    "import matplotlib.pyplot as plt\n",
    "nx.draw_circular(G2)\n",
    "plt.show()"
   ]
  },
  {
   "cell_type": "markdown",
   "metadata": {},
   "source": [
    "#### Questions\n",
    "- Using the visualization code above to plot different disconnected components\n",
    "- What do you observe as you select different components?"
   ]
  },
  {
   "cell_type": "code",
   "execution_count": null,
   "metadata": {},
   "outputs": [],
   "source": []
  },
  {
   "cell_type": "code",
   "execution_count": 60,
   "metadata": {},
   "outputs": [],
   "source": [
    "# # - Example 2: We will make an attempt using the function below (it requires the module pydot)\n",
    "# import matplotlib.pyplot as plt\n",
    "# import networkx as nx\n",
    "\n",
    "# try:\n",
    "#     import pygraphviz\n",
    "#     from networkx.drawing.nx_agraph import graphviz_layout\n",
    "# except ImportError:\n",
    "#     try:\n",
    "#         import pydot\n",
    "#         from networkx.drawing.nx_pydot import graphviz_layout\n",
    "#     except ImportError:\n",
    "#         raise ImportError(\"This example needs Graphviz and either \"\n",
    "#                           \"PyGraphviz or pydot\")\n",
    "\n",
    "# pos = graphviz_layout(G2, prog='twopi')\n",
    "# plt.figure(figsize=(8, 8))\n",
    "# nx.draw(G2, pos, node_size=20, alpha=0.5, node_color=\"blue\", with_labels=False)\n",
    "# plt.axis('equal')\n",
    "# plt.show()"
   ]
  },
  {
   "cell_type": "markdown",
   "metadata": {},
   "source": [
    "The above visualization should look similar to this:\n",
    "\n",
    "<img title=\"\" src=\"all_components.png\">"
   ]
  },
  {
   "cell_type": "code",
   "execution_count": null,
   "metadata": {},
   "outputs": [],
   "source": []
  }
 ],
 "metadata": {
  "kernelspec": {
   "display_name": "Python 3",
   "language": "python",
   "name": "python3"
  },
  "language_info": {
   "codemirror_mode": {
    "name": "ipython",
    "version": 3
   },
   "file_extension": ".py",
   "mimetype": "text/x-python",
   "name": "python",
   "nbconvert_exporter": "python",
   "pygments_lexer": "ipython3",
   "version": "3.7.3"
  }
 },
 "nbformat": 4,
 "nbformat_minor": 2
}
